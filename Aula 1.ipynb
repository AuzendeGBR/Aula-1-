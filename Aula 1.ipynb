{
 "cells": [
  {
   "cell_type": "markdown",
   "metadata": {},
   "source": [
    "Aula 1 "
   ]
  },
  {
   "cell_type": "code",
   "execution_count": 34,
   "metadata": {},
   "outputs": [
    {
     "name": "stdout",
     "output_type": "stream",
     "text": [
      "Ola, mundo!\n"
     ]
    }
   ],
   "source": [
    "print(\"Ola, mundo!\")"
   ]
  },
  {
   "cell_type": "code",
   "execution_count": 50,
   "metadata": {},
   "outputs": [
    {
     "name": "stdout",
     "output_type": "stream",
     "text": [
      "Olá,Rafael!\n",
      "Rafael 18 adulto\n",
      "Olá,nicolas!\n",
      "nicolas 17 menor de idade\n"
     ]
    }
   ],
   "source": [
    "nome1 = \"Rafael\"\n",
    "idade1= 18\n",
    "nome2= \"nicolas\"\n",
    "idade2= 17\n",
    "altura1=1.78\n",
    "altura2=1.75\n",
    "dev1=True\n",
    "dev2=True\n",
    "\n",
    "print(\"Olá,\" + nome + \"!\")\n",
    "if idade1 >= 18 :print(nome, idade, \"adulto\")\n",
    "if idade1 <= 17 :print(nome, idade, \"menor de idade\")\n",
    "\n",
    "print(\"Olá,\" + nome2 + \"!\")\n",
    "if idade2 >= 18 :print(nome2, idade2, \"adulto\")\n",
    "if idade2 <= 17 :print(nome2, idade2, \"menor de idade\")\n"
   ]
  }
 ],
 "metadata": {
  "kernelspec": {
   "display_name": "venv",
   "language": "python",
   "name": "python3"
  },
  "language_info": {
   "codemirror_mode": {
    "name": "ipython",
    "version": 3
   },
   "file_extension": ".py",
   "mimetype": "text/x-python",
   "name": "python",
   "nbconvert_exporter": "python",
   "pygments_lexer": "ipython3",
   "version": "3.10.2"
  }
 },
 "nbformat": 4,
 "nbformat_minor": 2
}
